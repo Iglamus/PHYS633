{
  "cells": [
    {
      "cell_type": "markdown",
      "metadata": {
        "id": "WvAiN_h8R4q8"
      },
      "source": [
        "# <font color=\"purple\">10-SourceFunction</font> (template)"
      ]
    },
    {
      "cell_type": "markdown",
      "metadata": {
        "id": "71CpmbTCR4rA"
      },
      "source": [
        "We start by importing the modules\n",
        "* Numpy -- operations on arrays and matrixes (and pi)\n",
        "* Matplotlib pyplot -- plotting library\n",
        "* Matplotlin patches -- module that enables patches in plots\n",
        "* Astropy units -- defined quantities with units. We also import the CDS conversions"
      ]
    },
    {
      "cell_type": "code",
      "execution_count": null,
      "metadata": {
        "id": "fG7jhZI3R4rB",
        "outputId": "b202a39f-970c-48be-9bba-05b23827e5c9",
        "colab": {
          "base_uri": "https://localhost:8080/"
        }
      },
      "outputs": [
        {
          "output_type": "execute_result",
          "data": {
            "text/plain": [
              "<astropy.units.core._UnitContext at 0x7fbe0bbefe90>"
            ]
          },
          "metadata": {},
          "execution_count": 7
        }
      ],
      "source": [
        "import numpy as np\n",
        "\n",
        "import matplotlib.pyplot as plt\n",
        "import matplotlib.patches as mpatches\n",
        "%matplotlib inline \n",
        "\n",
        "from astropy import constants as const\n",
        "import astropy.units as u\n",
        "from astropy.units import cds\n",
        "cds.enable()"
      ]
    },
    {
      "cell_type": "markdown",
      "metadata": {
        "id": "TmhDzkYgR4rD"
      },
      "source": [
        "## 0. To execute: Below is the function that creates a gradiant of color between two curves, according to a certain function."
      ]
    },
    {
      "cell_type": "code",
      "execution_count": null,
      "metadata": {
        "collapsed": true,
        "id": "0QYeZuJcR4rE"
      },
      "outputs": [],
      "source": [
        "def rect(ax,x,y,w,h,c):\n",
        "    #ax = plt.gca()\n",
        "    polygon = plt.Rectangle((x,y),w,h,color=c)\n",
        "    ax.add_patch(polygon)\n",
        "\n",
        "def rainbow_fill_between(ax, X, Y1, Y2, colors=None, \n",
        "                         cmap=plt.get_cmap(\"Reds\"),**kwargs):\n",
        "    plt.plot(X,Y1,lw=0)  # Plot so the axes scale correctly\n",
        "\n",
        "    dx = X[1]-X[0]\n",
        "    N  = X.size\n",
        "\n",
        "    #Pad a float or int to same size as x\n",
        "    if (type(Y2) is float or type(Y2) is int):\n",
        "        Y2 = np.array([Y2]*N)\n",
        "\n",
        "    #No colors -- specify linear\n",
        "    if colors is None:\n",
        "        colors = []\n",
        "        for n in range(N):\n",
        "            colors.append(cmap(n/float(N)))\n",
        "    #Varying only in x\n",
        "    elif len(colors.shape) is 1:\n",
        "        colors = cmap((colors-colors.min())\n",
        "                      /(colors.max()-colors.min()))\n",
        "    #Varying only in x and y\n",
        "    else:\n",
        "        cnp = np.array(colors)\n",
        "        colors = np.empty([colors.shape[0],colors.shape[1],4])\n",
        "        for i in range(colors.shape[0]):\n",
        "            for j in range(colors.shape[1]):\n",
        "                colors[i,j,:] = cmap((cnp[i,j]-cnp[:,:].min())\n",
        "                                    /(cnp[:,:].max()-cnp[:,:].min()))\n",
        "\n",
        "    colors = np.array(colors)\n",
        "\n",
        "    #Create the patch objects\n",
        "    for (color,x,y1,y2) in zip(colors,X,Y1,Y2):\n",
        "        rect(ax,x,y2,dx,y1-y2,color,**kwargs)"
      ]
    },
    {
      "cell_type": "markdown",
      "metadata": {
        "id": "kgrxMWCCR4rF"
      },
      "source": [
        "## 1. First, let's consider a case where there is only emission.\n",
        "\n",
        "* The lenght of the slab is 4 length units. \n"
      ]
    },
    {
      "cell_type": "markdown",
      "source": [
        "### a. The properties of the material are constant $\\rho(s)=\\rho_o$ and $j(s)=j_o$.\n",
        "* The product of the emission coefficient and the density give an intensity of 0.25 per unit of length. \n",
        ">**TODO**: start from $dI=...$ find an equation for $I(s)$ and show your work below. Add a curve for $I(s)$ in the graph below.\n",
        "\n",
        "$$ \\int_{I_o}^{I(s)} dI = \\int_{s_o}^s j(s)\\rho(s)ds $$\n",
        "$$ I(s) - I_o = j_o \\rho_o [s - s_o] $$\n",
        "$$ I(s) = I_o + j_o \\rho_o [s - s_o] $$"
      ],
      "metadata": {
        "id": "s8M841z_TFN9"
      }
    },
    {
      "cell_type": "code",
      "execution_count": null,
      "metadata": {
        "id": "6SNlS0l6R4rF",
        "outputId": "0d3a95fb-5cf5-4acc-9563-1535718b8f25",
        "colab": {
          "base_uri": "https://localhost:8080/",
          "height": 311
        }
      },
      "outputs": [
        {
          "output_type": "execute_result",
          "data": {
            "text/plain": [
              "[<matplotlib.lines.Line2D at 0x7f57754658d0>]"
            ]
          },
          "metadata": {},
          "execution_count": 6
        },
        {
          "output_type": "display_data",
          "data": {
            "text/plain": [
              "<Figure size 648x288 with 1 Axes>"
            ],
            "image/png": "[encoded data removed]"
          },
          "metadata": {
            "needs_background": "light"
          }
        }
      ],
      "source": [
        "fig, ax = plt.subplots(1,1, figsize=(9,4))\n",
        "plt.rcParams.update({'font.size': 14})\n",
        "plt.rcParams.update({'font.family': 'Times New Roman'})\n",
        "\n",
        "ax.set_ylim(0, 1.2)\n",
        "ax.set_xlim(-1,5)\n",
        "\n",
        "# For the first graph, I want a patch with constant color\n",
        "cmap = plt.cm.get_cmap('Reds') # get a red scale color map\n",
        "rgba = cmap(0.5) # pick the color in the center of the color map\n",
        "rec = mpatches.Rectangle( (0, 0), 4 , 1.2, fc=rgba) # Create a shaded rectangle\n",
        "ax.add_patch(rec) # add the rectangle to the plot\n",
        "ax.text(5.2, 0.5, 'Observer is here', style='italic',\n",
        "        bbox={'facecolor':'red', 'pad':5})\n",
        "\n",
        "ax.set_xlabel('$s$')\n",
        "ax.set_ylabel('$I(s)$')\n",
        "\n",
        "#---------------------------------------\n",
        "#---------------------------------------\n",
        "# At home\n",
        "\n",
        "s = np.linspace(0,4,100)\n",
        "\n",
        "I_s = 0.2 + 0.25*s\n",
        "\n",
        "ax.plot(s, I_s, label='Intensity', c='b')"
      ]
    },
    {
      "cell_type": "markdown",
      "metadata": {
        "id": "3n2l5jh3R4rH"
      },
      "source": [
        "> **TODO**: <font color='red'>Please write a small paragraph with an interpretation of the result obtained:</font>\n",
        "\n",
        "As expected, with only emission there is a linear increase in the intensity. Using $I_o = 0.2$ you can see this intensity on the graph."
      ]
    },
    {
      "cell_type": "markdown",
      "metadata": {
        "id": "-W27S5WNR4rH"
      },
      "source": [
        "### b. Now consider the emission inside a slab with density varying such that:\n",
        "\n",
        "$$ \\rho(s) = \\rho_o \\left(1 - \\frac{s}{d} \\right) $$\n",
        "and for which the emiisivity is still constant $j(s)=j_o$.\n",
        "\n",
        ">**TODO**:\n",
        ">\n",
        "> a. Find an expression for the intensity $I(s)$ everywhere in the slab and show your work below\n",
        "> \n",
        "$$ \\int_{I_o}^{I(s)} dI = \\int_{s_o}^s j(s)\\rho(s)ds $$\n",
        "$$ \\int_{I_o}^{I(s)} dI = \\int_{s_o}^s j_o\\rho_o\\left(1 - \\frac{s}{d} \\right)ds $$\n",
        "$$ I(s) = I_o + j_o\\rho_o\\left(s - \\frac{s^2}{2d} \\right)$$\n",
        "\n",
        "> b. Analytically, find what the value of $\\rho_o j_o$ has to be for the final intensity to be the same than that of #1a. Show your work below.\n",
        ">\n",
        "$$ I_o + 0.25 (4)= I_o + j_o\\rho_o\\left(4 - \\frac{4^2}{2*4} \\right)$$\n",
        "$$ 1= j_o\\rho_o\\left(4 - \\frac{4^2}{2*4} \\right)$$\n",
        "$$ j_o\\rho_o = \\frac{1}{2}$$\n",
        "> c. Add a curve for $I(s)$ to the graph below. "
      ]
    },
    {
      "cell_type": "code",
      "execution_count": null,
      "metadata": {
        "id": "wfYSoPExR4rI",
        "outputId": "e5afddf7-3d43-41aa-cbbe-a734961421be",
        "colab": {
          "base_uri": "https://localhost:8080/",
          "height": 293
        }
      },
      "outputs": [
        {
          "output_type": "execute_result",
          "data": {
            "text/plain": [
              "[<matplotlib.lines.Line2D at 0x7f577494f710>]"
            ]
          },
          "metadata": {},
          "execution_count": 7
        },
        {
          "output_type": "display_data",
          "data": {
            "text/plain": [
              "<Figure size 648x288 with 1 Axes>"
            ],
            "image/png": "[encoded data removed]"
          },
          "metadata": {
            "needs_background": "light"
          }
        }
      ],
      "source": [
        "fig, ax = plt.subplots(1,1, figsize=(9,4))\n",
        "plt.rcParams.update({'font.size': 14})\n",
        "plt.rcParams.update({'font.family': 'Times New Roman'})\n",
        "\n",
        "\n",
        "ax.set_ylim(0, 1.2)\n",
        "ax.set_xlim(-1,5)\n",
        "\n",
        "# Create a patch with a gradient to illustrate\n",
        "# the change in density\n",
        "X=np.linspace(0,4,100)\n",
        "Y1=np.copy(X)*0\n",
        "Y2=np.copy(X)*0+4\n",
        "g = 1.0-np.copy(X/4)\n",
        "rainbow_fill_between(ax,X,Y1,Y2,colors=g)\n",
        "ax.text(5.2, 0.5, 'Observer is here', style='italic',\n",
        "        bbox={'facecolor':'red', 'pad':5})\n",
        "\n",
        "#---------------------------------------\n",
        "#---------------------------------------\n",
        "# At home\n",
        "\n",
        "s = np.linspace(0,4,100)\n",
        "\n",
        "I_ps = 0.2 + 0.5*(s - s**2/8)\n",
        "\n",
        "ax.plot(s, I_ps, label='Intensity', c='b')"
      ]
    },
    {
      "cell_type": "markdown",
      "metadata": {
        "id": "a1H-lGH-R4rJ"
      },
      "source": [
        "**TODO**: <font color='red'>Please write a small paragraph with an interpretation of the result obtained:</font>\n"
      ]
    },
    {
      "cell_type": "markdown",
      "metadata": {
        "collapsed": true,
        "id": "LX5OkaDfR4rJ"
      },
      "source": [
        "## 2. Now let's look at the case where there is both absorption and emission. \n",
        "\n",
        "In class, we found the 'formal solution' of RT to be:\n",
        "$$I(\\tau) ~~=~~ ~ I_o\\mathrm{e}^{\\tau-\\tau_o} ~+~ \\int_{\\tau'=\\tau_o}^{\\tau'=\\tau} S(\\tau')~ \\mathrm{e}^{\\tau-\\tau'}d\\tau'$$"
      ]
    },
    {
      "cell_type": "markdown",
      "source": [
        "### a. Constant source function ($S(\\tau)=So$)\n",
        "\n",
        "In this case, the , the formal solution can be written as:\n",
        "$$I(s) ~~=~~ ~ I_o\\mathrm{e}^{\\tau(s)-\\tau_o} ~+~ S_o\\left[1-\\mathrm{e}^{\\tau(s)-\\tau_o}\\right]$$\n",
        "\n",
        "Here, let's consider that everything else is also constant: $\\rho(s)=\\rho_o$ and $j(s)=j_o$.\n",
        "\n",
        "Numerical values are defined in the code below. \n",
        "\n",
        ">**TODO**:\n",
        ">\n",
        "> 1. Find an expression for $\\tau(s)-\\tau_o$. Show your work.\n",
        "> 2. In the graph below, add a curve for the first term of the $I(s)$ equation. Make sure to add a legend.\n",
        "> 3. In the graph below, add a curve for the second term of the $I(s)$ equation. Make sure to add a legend.\n",
        "> 4. In the graph below, add a curve for $I(s)$ itself. Make sure to add a legend.\n",
        ">\n",
        "> Note: I have shown what the graph should look like in the class slides :)\n",
        "\n",
        "$$ \\tau(s) - 0 = -\\int_{s_obs}^s \\kappa(s)\\rho(s)ds = -\\kappa_o\\rho_o[s-s_obs] $$\n",
        "$$ \\tau(s_0) =  -\\kappa_o\\rho_o[s-s_{obs}] $$\n",
        "$$ \\tau(s) - \\tau_o = -\\kappa_o \\rho_o [s-s_o] $$\n"
      ],
      "metadata": {
        "id": "NcmzOqihVaMg"
      }
    },
    {
      "cell_type": "code",
      "execution_count": null,
      "metadata": {
        "id": "irpt21DBR4rJ",
        "outputId": "aaae07bb-9e7e-4c5c-c3f4-30aaacba77f0",
        "colab": {
          "base_uri": "https://localhost:8080/",
          "height": 311
        }
      },
      "outputs": [
        {
          "output_type": "execute_result",
          "data": {
            "text/plain": [
              "[<matplotlib.lines.Line2D at 0x7f577492b210>]"
            ]
          },
          "metadata": {},
          "execution_count": 16
        },
        {
          "output_type": "display_data",
          "data": {
            "text/plain": [
              "<Figure size 648x288 with 1 Axes>"
            ],
            "image/png": "[encoded data removed]"
          },
          "metadata": {
            "needs_background": "light"
          }
        }
      ],
      "source": [
        "fig, ax = plt.subplots(1,1, figsize=(9,4))\n",
        "plt.rcParams.update({'font.size': 14})\n",
        "plt.rcParams.update({'font.family': 'Times New Roman'})\n",
        "\n",
        "ax.set_ylim(0, 2)\n",
        "ax.set_xlim(-1,5)\n",
        "    \n",
        "# For the first graph, I want a patch with constant color\n",
        "cmap = plt.cm.get_cmap('Reds') # get a red scale color map\n",
        "rgba = cmap(0.5) # pick the color in the center of the color map\n",
        "#rec = mpatches.Rectangle( (0, 0), 4 , 2, fc=rgba) # Create a shaded rectangle\n",
        "ax.add_patch(mpatches.Rectangle( (0, 0), 4 , 2, fc=rgba)) # add the rectangle to the plot\n",
        "ax.text(5.2, 1, 'Observer is here', style='italic',\n",
        "        bbox={'facecolor':'red', 'pad':5})\n",
        "\n",
        "ax.set_xlabel('$s$')\n",
        "\n",
        "#---------------------------------------------------------\n",
        "# Here are the values for already defined for this problem\n",
        "    \n",
        "Io = 2\n",
        "j_rho = 0.5\n",
        "kappa_rho = 0.5\n",
        "S = j_rho / kappa_rho\n",
        "d = 4\n",
        "\n",
        "ss = np.linspace(0,4, 50)\n",
        "\n",
        "# Curve for the source function value\n",
        "source = np.array( [S]*ss.size )\n",
        "ax.plot(ss, source, ls='dotted', c='k', lw=2)\n",
        "#---------------------------------------\n",
        "#---------------------------------------\n",
        "\n",
        "\n",
        "# Optical depth\n",
        "\n",
        "tau = - kappa_rho*ss\n",
        "\n",
        "# First term (if there was no emission)\n",
        "\n",
        "I_first = Io * np.exp(tau)\n",
        "\n",
        "ax.plot(ss, I_first, label='First', c='k')\n",
        "\n",
        "# Second term (if there was no initial intensity)\n",
        "\n",
        "I_second = S * (1 - np.exp(tau))\n",
        "\n",
        "ax.plot(ss, I_second, label='Second', c='g')\n",
        "\n",
        "# Intensity\n",
        "\n",
        "I_tot = I_first + I_second\n",
        "\n",
        "ax.plot(ss, I_tot, label='Intensity', c='b')\n",
        "\n",
        "ax.legend(loc=0)"
      ]
    },
    {
      "cell_type": "markdown",
      "metadata": {
        "id": "92DsGtplR4rK"
      },
      "source": [
        "> **TODO**: <font color='red'>Please write a small paragraph with an interpretation of the result obtained:</font>\n",
        "\n",
        "As expected, the first term exponentially decays and the second term increases at an exponentially decreasing rate. The total intensity reflects the addition of these two. Given a slab of infinite, both the second term and the intensity would equal the source function, whereas the first term would go to zero."
      ]
    },
    {
      "cell_type": "markdown",
      "metadata": {
        "id": "HpJYgwpeR4rK"
      },
      "source": [
        "### b. Constant source function ($S(\\tau)=So$) but linearly decreasing density\n",
        "\n",
        " > **TODO**: Re-do what we did in #2a, assuming this time that the density is decreasing linearly such that:\n",
        "$$ \\rho(s) = \\rho_o \\left( 1- \\frac{s}{d} \\right), $$ where $d$ is the length of the slab.\n",
        ">\n",
        ">Note: You can directly use some of the results from your previous notebook (e.g. for the optical depth).  \n",
        "\n",
        "$$ \\tau(s) - 0 = -\\int_{s_obs}^s \\kappa(s)\\rho(s)ds = - \\kappa_\\lambda\\rho_o\\left( s - \\frac{s^2}{2d}\\right) $$"
      ]
    },
    {
      "cell_type": "code",
      "execution_count": null,
      "metadata": {
        "id": "-Eb6VlNbR4rL",
        "outputId": "a86e6646-c6dc-4f36-b2c9-450200b19636",
        "colab": {
          "base_uri": "https://localhost:8080/",
          "height": 311
        }
      },
      "outputs": [
        {
          "output_type": "execute_result",
          "data": {
            "text/plain": [
              "[<matplotlib.lines.Line2D at 0x7f5773d78b10>]"
            ]
          },
          "metadata": {},
          "execution_count": 21
        },
        {
          "output_type": "display_data",
          "data": {
            "text/plain": [
              "<Figure size 648x288 with 1 Axes>"
            ],
            "image/png": "[encoded data removed]"
          },
          "metadata": {
            "needs_background": "light"
          }
        }
      ],
      "source": [
        "fig, ax = plt.subplots(1,1, figsize=(9,4))\n",
        "plt.rcParams.update({'font.size': 14})\n",
        "plt.rcParams.update({'font.family': 'Times New Roman'})\n",
        "\n",
        "ax.set_ylim(0, 2)\n",
        "ax.set_xlim(-1,5)\n",
        "\n",
        "\n",
        "# Create a patch with a gradient to illustrate\n",
        "# the change in density\n",
        "X=np.linspace(0,4,100)\n",
        "Y1=np.copy(X)*0\n",
        "Y2=np.copy(X)*0+4\n",
        "g = 1.0-np.copy(X/4)\n",
        "rainbow_fill_between(ax,X,Y1,Y2,colors=g)\n",
        "\n",
        "ax.text(5.2, 1, 'Observer is here', style='italic',\n",
        "        bbox={'facecolor':'red', 'pad':5})\n",
        "\n",
        "ax.set_xlabel('$s$')\n",
        "\n",
        "#---------------------------------------------------------\n",
        "# Here are the values for already defined for this problem\n",
        "    \n",
        "Io = 2\n",
        "j_rho = 0.5\n",
        "kappa_rho = 0.5\n",
        "S = j_rho / kappa_rho\n",
        "d = 4\n",
        "\n",
        "ss = np.linspace(0,4, 50)\n",
        "\n",
        "# Curve for the source function value\n",
        "source = np.array( [S]*ss.size )\n",
        "ax.plot(ss, source, ls='dotted', c='k', lw=2)\n",
        "#---------------------------------------\n",
        "#---------------------------------------\n",
        "\n",
        "tau = - kappa_rho * (ss - ss**2/(2*d))\n",
        "\n",
        "# First term (if there was no emission)\n",
        "\n",
        "I_first = Io * np.exp(tau)\n",
        "\n",
        "ax.plot(ss, I_first, label='First', c='k')\n",
        "\n",
        "# Second term (if there was no initial intensity)\n",
        "\n",
        "I_second = S * (1 - np.exp(tau))\n",
        "\n",
        "ax.plot(ss, I_second, label='Second', c='g')\n",
        "\n",
        "# Intensity\n",
        "\n",
        "I_tot = I_first + I_second\n",
        "\n",
        "ax.plot(ss, I_tot, label='Intensity', c='b')\n",
        "\n",
        "ax.legend(loc=0)"
      ]
    },
    {
      "cell_type": "markdown",
      "metadata": {
        "id": "ZnLwYXy2R4rL"
      },
      "source": [
        "**TODO**: <font color='red'>Please write a small paragraph with an interpretation of the result obtained:</font>\n",
        "\n",
        "This graph follows a similar pattern to the one above with a slight difference. As the intensity follows through the 'slab', it decays to the source function at a slower rate. This is reflective in the additional $\\frac{s^2}{2d}$ term."
      ]
    },
    {
      "cell_type": "markdown",
      "metadata": {
        "id": "GJwNOKkhR4rL"
      },
      "source": [
        "## 3. Case when the source function is not constant.\n",
        "\n",
        "Let's assume that the density and opacity in the slab are constant, such that $\\kappa_o\\rho_o=2.0$ per unit length. \n",
        "\n",
        "The source function is however a function of $\\tau$ such that:\n",
        "$$ S(\\tau) = S_0 + S_1\\tau$$\n",
        "where $S_0=0.5$ intensity unit, and $S_1=1.3$ intensity units per optical depth unit. \n",
        "\n",
        "There is no intial intensity entering the slab so $I_o = 0$.\n",
        "\n",
        "Prepare your code such that you can vary the values of the paramters in the equations above."
      ]
    },
    {
      "cell_type": "markdown",
      "source": [
        "### a. Find an expression for $I(\\tau)$.\n",
        ">**TODO**: In this case, you cannot use the expression we found for the constant source function. You will have to start back at the expression for the formal solution itself. Show your work below\n",
        "\n",
        "$$I(\\tau) ~~=~~ ~ I_o\\mathrm{e}^{\\tau-\\tau_o} ~+~ \\int_{\\tau'=\\tau_o}^{\\tau'=\\tau} S(\\tau')~ \\mathrm{e}^{\\tau-\\tau'}d\\tau'$$\n",
        "$$I(\\tau) ~~=~~ ~ I_o\\mathrm{e}^{\\tau-\\tau_o} ~+~ \\int_{\\tau'=\\tau_o}^{\\tau'=\\tau} (S_0 + S_1\\tau')~ \\mathrm{e}^{\\tau-\\tau'}d\\tau'$$\n",
        "$$I(\\tau) ~~=~~ ~ I_o\\mathrm{e}^{\\tau-\\tau_o} + S_o\\left[1-\\mathrm{e}^{\\tau(s)-\\tau_o}\\right] - e^{\\tau-\\tau'}S_1(\\tau'+1)|_{\\tau_o}^{\\tau}$$\n",
        "$$I(\\tau) ~~=~~ ~ I_o\\mathrm{e}^{\\tau-\\tau_o} + S_o\\left[1-\\mathrm{e}^{\\tau(s)-\\tau_o}\\right] + S_1(\\tau+1) - e^{\\tau-\\tau_0}S_1(\\tau_0+1)$$"
      ],
      "metadata": {
        "id": "2byBNiYTaGyX"
      }
    },
    {
      "cell_type": "markdown",
      "source": [
        "### b. On your graph add a curve for:\n",
        ">**TODO**:\n",
        ">1. the optical depth $\\tau$ as a function of $s$.\n",
        ">2. the source function $S$ as a function of $s$.\n",
        ">3. the intensity $I$ as a function of $s$. \n",
        ">\n",
        ">4. Concentrating on the side of your graph where the light exits the slab, estimate the optical depth at which the value of the source function is equal to the value of the intensity emerging from the slab. "
      ],
      "metadata": {
        "id": "BqKJj2loaf8M"
      }
    },
    {
      "cell_type": "code",
      "execution_count": null,
      "metadata": {
        "id": "xuVJsT7JR4rM",
        "outputId": "31ae07e3-4d4e-4ea4-b1a9-59db045d7362",
        "colab": {
          "base_uri": "https://localhost:8080/",
          "height": 356
        }
      },
      "outputs": [
        {
          "output_type": "execute_result",
          "data": {
            "text/plain": [
              "<matplotlib.legend.Legend at 0x7fbe0ae99f10>"
            ]
          },
          "metadata": {},
          "execution_count": 8
        },
        {
          "output_type": "stream",
          "name": "stderr",
          "text": [
            "findfont: Font family ['Times New Roman'] not found. Falling back to DejaVu Sans.\n"
          ]
        },
        {
          "output_type": "display_data",
          "data": {
            "text/plain": [
              "<Figure size 720x360 with 1 Axes>"
            ],
            "image/png": "[encoded data removed]"
          },
          "metadata": {
            "needs_background": "light"
          }
        }
      ],
      "source": [
        "fig, ax = plt.subplots(1,1, figsize=(10,5))\n",
        "plt.rcParams.update({'font.size': 18})\n",
        "plt.rcParams.update({'font.family': 'Times New Roman'})\n",
        "\n",
        "ax.set_ylim(0, 8)\n",
        "ax.set_xlim(-1,5)\n",
        "\n",
        "# For the first graph, I want a patch with constant color\n",
        "cmap = plt.cm.get_cmap('Reds') # get a red scale color map\n",
        "rgba = cmap(0.5) # pick the color in the center of the color map\n",
        "rec = mpatches.Rectangle( (0, 0), 4 , 8, fc=rgba) # Create a shaded rectangle\n",
        "ax.add_patch(rec) # add the rectangle to the plot\n",
        "ax.text(5.2, 4, 'Observer is here', style='italic',\n",
        "        bbox={'facecolor':'red', 'pad':5})\n",
        "\n",
        "ax.set_xlabel('$s$')\n",
        "\n",
        "# Values to use\n",
        "\n",
        "d = 4\n",
        "\n",
        "Io = 0\n",
        "kappa_rho = 2.0\n",
        "\n",
        "S0 = 0.5\n",
        "S1 = 1.3\n",
        "\n",
        "ss = np.linspace(0,4, 50)\n",
        "\n",
        "#---------------------------------------\n",
        "#---------------------------------------\n",
        "# At home\n",
        "\n",
        "tau = - kappa_rho*(ss)\n",
        "\n",
        "S = S0 + S1*ss\n",
        "\n",
        "I = Io * np.exp(tau) + S0 * (1 - np.exp(tau)) + S1 * ((tau+1) - np.exp(tau)*S1)\n",
        "\n",
        "ax.plot(ss, I, label='Intensity', c='g')\n",
        "ax.plot(ss, tau, label=r'$\\tau$', c='b')\n",
        "ax.plot(ss, S, label='S', c='y')\n",
        "\n",
        "ax.legend(loc=0)"
      ]
    },
    {
      "cell_type": "markdown",
      "metadata": {
        "collapsed": true,
        "id": "KKUc0BJfR4rM"
      },
      "source": [
        "> **TODO**: <font color='red'>Please write a small paragraph with an interpretation of the result obtained:</font>\n",
        "\n",
        "With this graph, we see the intensity and the source function. "
      ]
    }
  ],
  "metadata": {
    "anaconda-cloud": {},
    "kernelspec": {
      "display_name": "Python 3",
      "name": "python3"
    },
    "language_info": {
      "name": "python"
    },
    "colab": {
      "name": "Copy of 10-SourceFunction.ipynb",
      "provenance": [],
      "collapsed_sections": [
        "TmhDzkYgR4rD",
        "s8M841z_TFN9",
        "NcmzOqihVaMg",
        "HpJYgwpeR4rK"
      ]
    }
  },
  "nbformat": 4,
  "nbformat_minor": 0
}