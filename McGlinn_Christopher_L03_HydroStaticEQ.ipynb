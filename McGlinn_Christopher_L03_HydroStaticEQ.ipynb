{
  "cells": [
    {
      "cell_type": "markdown",
      "metadata": {
        "id": "EyDKwHi25Vk8"
      },
      "source": [
        "# <font color='purple'>03-HydroStaticEQ</font>"
      ]
    },
    {
      "cell_type": "markdown",
      "metadata": {
        "id": "6G4RIvrF5VlB"
      },
      "source": [
        "## 0. We start by importing the modules\n",
        "* Numpy -- operations on arrays and matrixes (and pi)\n",
        "* Matplotlib pyplot -- plotting library\n",
        "* Astropy units -- defined quantities with units. We also import the CDS conversions"
      ]
    },
    {
      "cell_type": "code",
      "execution_count": null,
      "metadata": {
        "colab": {
          "base_uri": "https://localhost:8080/"
        },
        "id": "QK8b47mG5VlC",
        "outputId": "0771bb57-7b4d-4260-ff95-f2236dc2e789"
      },
      "outputs": [
        {
          "output_type": "execute_result",
          "data": {
            "text/plain": [
              "<astropy.units.core._UnitContext at 0x7f288480fa10>"
            ]
          },
          "metadata": {},
          "execution_count": 1
        }
      ],
      "source": [
        "import numpy as np\n",
        "\n",
        "import matplotlib.pyplot as plt\n",
        "%matplotlib inline \n",
        "# This option enables plots to be inline, \n",
        "# as opposed to opening in a separate window.\n",
        "\n",
        "from astropy import constants as const\n",
        "import astropy.units as u\n",
        "from astropy.units import cds\n",
        "cds.enable() "
      ]
    },
    {
      "cell_type": "markdown",
      "metadata": {
        "id": "ONAmOeQ_5VlE"
      },
      "source": [
        "## 1. Solving the equation of hydrostatic equilibium with known density."
      ]
    },
    {
      "cell_type": "markdown",
      "metadata": {
        "id": "hLJm9D9p5VlF"
      },
      "source": [
        "### a. In class: the constant density case \n",
        "\n",
        "For a density that is constant inside of the star, we found that \n",
        "$$\\frac{P(r)}{P_o} = \\left[ 1 - \\left(\\frac{r}{R_\\star}\\right)^2\\right],$$\n",
        "where $P_o$ is the pressure at the center ($r=0$)\n",
        "\n",
        "We will add this curve to the graph of $P(r)/P_c$ versus $r/R_\\star$ below.\n",
        "\n",
        "\n",
        "### b. At home: the decreasing density case\n",
        "\n",
        "Now let's consider a density that varies as\n",
        "$$\\rho = \\rho_o\\left(1-\\frac{r}{R_\\star}\\right),$$ \n",
        "as we did for the previous notebook L02. \n",
        "\n",
        "follow the same procedure to find $\\frac{P(r)}{P_o}$, and add it to the plot below.\n",
        "\n",
        "> **TODO** <font color='red'>: follow the same procedure to find $\\frac{P(r)}{P_o}$ for the decreasing density case. Write your solution below. This means starting from the HS differential equation, but you can use results from notebook L02. Transform your integral to a unitless-form before performing the integration. Use Latex formatting to render the math (or enter a clear photo of your work -- see notebook L02)</font>\n",
        "\n",
        "$$\\frac{M_{r}}{M_{\\star}} = 4\\frac{r^3}{R_{\\star}^3}-3\\frac{r^4}{R_{\\star}^4}, \\: \\frac{g}{g_\\star} = 4\\frac{r}{R_{\\star}}-3\\frac{r^2}{R_{\\star}^2} $$\n",
        "\n",
        "$$ P(r) = \\int_{R_{\\star}}^r  - \\rho_{o} (1- \\frac{r}{R_{\\star}})g(r)dr = \\int_{R_{\\star}}^r  - \\rho_{o} (1- \\frac{r}{R_{\\star}})g_{\\star}(4\\frac{r}{R_{\\star}}-3\\frac{r^2}{R_{\\star}^2})dr = -\\rho_{o}g_{\\star} \\int_{R_{\\star}}^r (4\\frac{r}{R_{\\star}}-7\\frac{r^2}{R_{\\star}^2}+3\\frac{r^3}{R_{\\star}^3}) dr $$\n",
        "\n",
        "$$ x = \\frac{r}{R_\\star} , \\: dr = R_\\star dx $$\n",
        "\n",
        "$$ P(x) = -\\rho_{o}g_{\\star}R_\\star \\int_{1}^x (4x-7x^2+3x^3)dx $$\n",
        "\n",
        "$$ P(x) = -\\rho_{o}g_{\\star}R_\\star (2x^2 - \\frac{7}{3}x^3 + \\frac{3}{4}x^4)\\Big|_{1}^x  $$\n",
        "\n",
        "$$ P(x) = -\\rho_{o}g_{\\star}R_\\star (2x^2 - \\frac{7}{3}x^3 + \\frac{3}{4}x^4 - \\frac{5}{12}), \\: P_o = \\frac{5}{12} \\rho_o g_\\star R_\\star  $$\n",
        "\n",
        "$$ \\frac{P(x)}{P_o} = -\\frac{12}{5}(2x^2 - \\frac{7}{3}x^3 + \\frac{3}{4}x^4 - \\frac{5}{12}) $$\n",
        "\n",
        "> **TODO** <font color='red'>: Add this curve to the graph below, with a label in the legend.</font>"
      ]
    },
    {
      "cell_type": "code",
      "execution_count": null,
      "metadata": {
        "colab": {
          "base_uri": "https://localhost:8080/",
          "height": 442
        },
        "id": "s5vcR7S35VlF",
        "outputId": "70a6502a-06a1-47c4-adf2-124d1fab54f0"
      },
      "outputs": [
        {
          "output_type": "stream",
          "name": "stderr",
          "text": [
            "findfont: Font family ['Times New Roman'] not found. Falling back to DejaVu Sans.\n"
          ]
        },
        {
          "output_type": "display_data",
          "data": {
            "image/png": "[encoded data removed]",
            "text/plain": [
              "<Figure size 432x432 with 1 Axes>"
            ]
          },
          "metadata": {
            "needs_background": "light"
          }
        }
      ],
      "source": [
        "fig, ax = plt.subplots(1,1, figsize=(6,6))\n",
        "# The subplot routine creates a figure object (in the variable \"fig\"), which contains\n",
        "# here a single plotting window called \"axes\" (in the variable \"ax\")\n",
        "plt.rcParams.update({'font.size': 18})\n",
        "plt.rcParams.update({'font.family': 'Times New Roman'})\n",
        "# Set the font and font size for the whole figure.\n",
        "\n",
        "ax.set_xlabel(r'$r/R_\\star$') # the \"r\" is to say there is latex formatted strings.\n",
        "ax.set_xlim(0,1)\n",
        "\n",
        "ax.set_ylabel(r'$P/P_c$') \n",
        "\n",
        "#-------------------------------------------------------\n",
        "# In class\n",
        "\n",
        "# define an array of r / Rs, from 0 to 1, with 100 elements\n",
        "\n",
        "r_rs = np.linspace(0, 1, 100)\n",
        "\n",
        "# For constant density\n",
        "\n",
        "P_Po = 1.0 - (r_rs)**2\n",
        "ax.plot(r_rs, P_Po, label='Constant Density')\n",
        "\n",
        "\n",
        "#-------------------------------------------------------\n",
        "# For linearly decreasing density (portfolio)\n",
        "# At home\n",
        "\n",
        "P_Po2 = -12/5 * (2*r_rs**2 - 7/3 * r_rs**3 + 3/4 * r_rs**4 - 5/12)\n",
        "ax.plot(r_rs,P_Po2,label='Decreasing Density')\n",
        "\n",
        "#-------------------------------------------------------\n",
        "ax.legend(loc=0, fontsize=15)\n",
        "plt.tight_layout()\n",
        "# arrange the plot nicely"
      ]
    },
    {
      "cell_type": "markdown",
      "metadata": {
        "id": "wD6mpTmn5VlH"
      },
      "source": [
        "> **TODO**: <font color='red'>Please write a small paragraph with an interpretation of the result obtained:</font>\n",
        "\n",
        "For the constant density, the pressure shows a pretty consistent drop off towards a 0 pressure from the $\\frac{r}{r_s}^2$ term. However, with the decreasing density case, the pressure decreases more rapidly in the beginning until it nears 0 and then tapers off to 0."
      ]
    },
    {
      "cell_type": "markdown",
      "metadata": {
        "id": "TTbcIkij5VlH"
      },
      "source": [
        "## 2. Now we would like to calculate the numerical value of the central pressure for a star of $1M_\\odot$ and $1R_\\odot$.\n",
        "\n",
        "To give an idea, the values of density and pressure at the center of the Sun from sophisticated models are 165 g/cm$^3$ and $2.5\\times10^{17} \\mathrm{dyn / cm}^2$, respectively."
      ]
    },
    {
      "cell_type": "markdown",
      "metadata": {
        "id": "zoJvQIQF5VlI"
      },
      "source": [
        "### a. In class: the constant density case\n",
        "\n",
        "We know that\n",
        "$$M_\\star = \\frac{4\\pi R_\\star^3}{3} \\rho_o.$$\n",
        "Therefore the density is\n",
        "$$\\rho_o = M_\\star \\frac{3}{4\\pi R_\\star^3}.$$\n",
        "\n",
        "The central pressure is \n",
        "$$\\frac{1}{2} \\rho_o g_\\star R_\\star,$$\n",
        "\n",
        "where the surface acceleration $g_\\star = GM_\\star / R_\\star^2$."
      ]
    },
    {
      "cell_type": "code",
      "execution_count": null,
      "metadata": {
        "id": "fKOaSev_5VlJ",
        "colab": {
          "base_uri": "https://localhost:8080/"
        },
        "outputId": "bc4dfc66-e17b-4917-c5f2-abd0db7d2967"
      },
      "outputs": [
        {
          "output_type": "stream",
          "name": "stdout",
          "text": [
            "In cgs units, the mean density of the sun is 1.4097798243075257 g / cm3\n",
            "In cgs units, the central pressure of the sun is 4.48e+15 dyn / cm2\n"
          ]
        }
      ],
      "source": [
        "############\n",
        "# In class\n",
        "############\n",
        "\n",
        "# Let's start with a demo on how to use the unit capabilities of astropy\n",
        "\n",
        "rho = 1*u.M_sun * 3 / (4 * np.pi * u.R_sun**3)\n",
        "\n",
        "# print(rho)\n",
        "# print(rho.decompose())\n",
        "# print(rho.to(u.g/u.cm**3))\n",
        "print('In cgs units, the mean density of the sun is {}'.format(rho.cgs) )\n",
        "\n",
        "gs = const.G * u.M_sun / u.R_sun**2\n",
        "\n",
        "Po = 1/2 * rho * gs * u.Rsun\n",
        "\n",
        "print('In cgs units, the central pressure of the sun is {:0.3g}'.format(Po2.to(u.dyn/u.cm**2)))"
      ]
    },
    {
      "cell_type": "markdown",
      "metadata": {
        "id": "TNEFqf5h5VlK"
      },
      "source": [
        "> **TODO**: <font color='red'>Please write a small paragraph with an interpretation of the result obtained:</font>\n",
        "\n",
        "The result is off of the calculated density and pressure by orders of magnitude of 2 for each. This may be due to the use of a constant density."
      ]
    },
    {
      "cell_type": "markdown",
      "metadata": {
        "id": "m5yy9_Nd5VlK"
      },
      "source": [
        "### b. At home: the linearly decreasing density case\n",
        "\n",
        "> **TODO**: <font color='red'>Now, you will derive expressions for the central density and central pressure (following the procedure above) for the case where we take the density to be $\\rho = \\rho_c\\left(1-\\frac{r}{R_\\star}\\right)$. Write your solution below in latex to render the math (or upload a clear photo of your work on paper). You can refer to results (scaled equations) from your previous notebooks.</font>\n",
        "\n",
        "For the case of decreasing density:\n",
        "\n",
        "$$ M_\\star = \\frac{1}{3}\\pi\\rho_{0}R_{\\star}^3 $$\n",
        "\n",
        "Then,\n",
        "\n",
        "$$ \\rho_o = M_\\star \\frac{3}{\\pi R_\\star^3} $$\n",
        "\n",
        "And,\n",
        "\n",
        "$$ P_o = \\frac{5}{12} \\rho_o g_\\star R_\\star $$"
      ]
    },
    {
      "cell_type": "markdown",
      "source": [
        "> **TODO**: <font color='red'>In the code cell below, use the astropy constant and unit packages to calculate the numerical values of the central density and central pressure for the decreasing density case. Make sure that the units are in the cgs pressure units, and that your 'print' statements include a label in front of the value.</font>"
      ],
      "metadata": {
        "id": "8DnWE9kcoYDq"
      }
    },
    {
      "cell_type": "code",
      "execution_count": null,
      "metadata": {
        "id": "8_xgeyf45VlK",
        "colab": {
          "base_uri": "https://localhost:8080/"
        },
        "outputId": "f885396f-a817-42ab-e999-2bd4061e04cd"
      },
      "outputs": [
        {
          "output_type": "stream",
          "name": "stdout",
          "text": [
            "In cgs units, the mean density of the sun is 5.639119297230103 g / cm3\n",
            "In cgs units, the central pressure of the sun is 1.34e+15 dyn / cm2\n"
          ]
        }
      ],
      "source": [
        "#################\n",
        "# At home\n",
        "#################\n",
        "\n",
        "rho2 = 1*u.M_sun * 3 / (np.pi * u.R_sun**3)\n",
        "\n",
        "#print(rho2)\n",
        "# print(rho.decompose())\n",
        "# print(rho.to(u.g/u.cm**3))\n",
        "print('In cgs units, the mean density of the sun is {}'.format(rho2.cgs) )\n",
        "\n",
        "gs2 = const.G * u.M_sun / u.R_sun**2\n",
        "\n",
        "Po2 = 5/12 * rho2 * gs2 * u.Rsun\n",
        "\n",
        "print('In cgs units, the central pressure of the sun is {:0.3g}'.format(Po.to(u.dyn/u.cm**2)))"
      ]
    },
    {
      "cell_type": "markdown",
      "metadata": {
        "collapsed": true,
        "id": "TC9Q9Hk65VlL"
      },
      "source": [
        "> **TODO**: <font color='red'>Please write a small paragraph with an interpretation of the result obtained:</font>\n",
        "\n",
        "Here, even with a decreasing density, the pressure is off by a magnitude of 2. It is greater than the constant density case and thusly more accurate. However, this is the pressure for the very center of the sun. To get a more accurate pressure we would need to integrate over the radius of the sun."
      ]
    },
    {
      "cell_type": "markdown",
      "source": [
        "## 3. Reading assignement: \"what can we measure about stars\" -- part 2\n",
        "\n",
        "In this graduate course, we are making an advanced physical and mathematical model of star. \n",
        "\n",
        "But it is still good to learn and/or remind ourselves about which physical characteristics of stars we can actually measure. You might have covered some of this in some details in previous physics or astro courses (at UD PHYS 133, 144, 333, or 469) -- but it is still a good idea to have a quick look at the suggested reading below before crafting your paragraph. \n",
        "\n",
        "One other thing that can be measured is the **distance** to a star."
      ],
      "metadata": {
        "id": "T2To58qWpM6q"
      }
    },
    {
      "cell_type": "markdown",
      "source": [
        "> **TODO**: <font color='red'>Have a look at section 19.2 \"Celestial Distances > Surveying the Stars\" of the Open Stack Astronomy online [textbook](https://openstax.org/books/astronomy/pages/5-2-the-electromagnetic-spectrum), and write a short conceptual paragraph about how astronomer can determine the distance to (nearby) stars. </font>\n",
        "You might also find is interesting to have a quick look at the GAIA space mission: https://sci.esa.int/web/gaia/-/28820-summary\n",
        "\n",
        "\n",
        "You can find the distance to a star by first calculating the parallax of that star. By measuring the differences in angles between the observed location in the sky of two different places, you can find the parallax. From there, the distance is equal to the inverse of the parallax $ D = \\frac{1}{p} $"
      ],
      "metadata": {
        "id": "LUumpJRZpxjP"
      }
    },
    {
      "cell_type": "code",
      "execution_count": null,
      "metadata": {
        "collapsed": true,
        "id": "zZZxaA-q5VlL"
      },
      "outputs": [],
      "source": [
        " "
      ]
    }
  ],
  "metadata": {
    "kernelspec": {
      "display_name": "Python 3",
      "name": "python3"
    },
    "language_info": {
      "name": "python"
    },
    "colab": {
      "provenance": []
    }
  },
  "nbformat": 4,
  "nbformat_minor": 0
}