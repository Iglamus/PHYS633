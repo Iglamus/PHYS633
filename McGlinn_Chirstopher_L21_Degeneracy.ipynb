{
  "cells": [
    {
      "cell_type": "markdown",
      "metadata": {
        "id": "OlfixXkrgI0a"
      },
      "source": [
        "## <font color=\"purple\">22-Degeneracy</font> (and radiation) pressure (template)"
      ]
    },
    {
      "cell_type": "code",
      "execution_count": 2,
      "metadata": {
        "id": "e-ILkj3_gI0f",
        "outputId": "75e96f50-6c02-442c-a678-d219e4697e7c",
        "colab": {
          "base_uri": "https://localhost:8080/"
        }
      },
      "outputs": [
        {
          "output_type": "execute_result",
          "data": {
            "text/plain": [
              "<astropy.units.core._UnitContext at 0x7fe196346e10>"
            ]
          },
          "metadata": {},
          "execution_count": 2
        }
      ],
      "source": [
        "import numpy as np, copy\n",
        "import matplotlib.pyplot as plt\n",
        "%matplotlib inline\n",
        "from astropy import constants as const\n",
        "import astropy.units as u\n",
        "from astropy.units import cds\n",
        "cds.enable() "
      ]
    },
    {
      "cell_type": "markdown",
      "metadata": {
        "id": "3Uc1bQMcgI0i"
      },
      "source": [
        "## 0. To execute:\n",
        "\n",
        "Here are some models for the Sun, a M10 star, and the Sun towards the end of its main sequence lifetime."
      ]
    },
    {
      "cell_type": "code",
      "execution_count": 3,
      "metadata": {
        "id": "_7lEOKQcgI0k"
      },
      "outputs": [],
      "source": [
        "def read_model(file):\n",
        "\n",
        "    return np.genfromtxt(file, skip_header=5, names=True)\n",
        "\n",
        "Msun = read_model('https://raw.githubusercontent.com/veropetit/PHYS633-S2022/main/L18-Convection/18-Sun-profile8.data')\n",
        "MsunOld = read_model('https://raw.githubusercontent.com/veropetit/PHYS633-S2022/main/L21-Degeneracy/21-SunOld-profile15.data')\n",
        "M10 = read_model('https://raw.githubusercontent.com/veropetit/PHYS633-S2022/main/L18-Convection/18-M10-profile8.data')"
      ]
    },
    {
      "cell_type": "markdown",
      "metadata": {
        "id": "IRBIgw1AgI0m"
      },
      "source": [
        "## 1. In Class: Degeneracy pressure in normal stars\n",
        "\n",
        "We will explore the transision zones between ideal gas pressure, non-relativistic degenerate pressure, and relativistic degenerate pressure, in a $\\log T$-$\\log\\rho$ diagram. \n",
        "\n",
        "We will use the fill_between function to highlight the regions where the degeneracy pressure (non-relativistic and relativistic should dominate. \n",
        "\n",
        "We will also add the $\\rho-T$ profiles for a solar model, a 10 Msun model, and a model of the sun towards the end of the hydrogen-burning phase. \n",
        "\n",
        "**In the next class** we will also add the transition region for radiation pressure. \n",
        "\n",
        "> **TODO**: On the graph, add a vertical line to show the mean density of a white dwarf with the same mass as the sun, and the same radius as the Earth."
      ]
    },
    {
      "cell_type": "code",
      "execution_count": 4,
      "metadata": {
        "id": "ajqZjwuHgI0o",
        "outputId": "88ae102e-5b95-4d37-d452-6f3ade3546fb",
        "colab": {
          "base_uri": "https://localhost:8080/",
          "height": 413
        }
      },
      "outputs": [
        {
          "output_type": "execute_result",
          "data": {
            "text/plain": [
              "Text(0, 0.5, '$\\\\log(T)$')"
            ]
          },
          "metadata": {},
          "execution_count": 4
        },
        {
          "output_type": "display_data",
          "data": {
            "text/plain": [
              "<Figure size 576x432 with 1 Axes>"
            ],
            "image/png": "[encoded data removed]"
          },
          "metadata": {
            "needs_background": "light"
          }
        }
      ],
      "source": [
        "fig, ax = plt.subplots(1,1, figsize=(8,6))\n",
        "ax.set_xlim(-6,10)\n",
        "ax.set_ylim(3,10)\n",
        "\n",
        "## We set the electronic mean molecular weigth to approximatively 2,\n",
        "## which is more appropriate for regions where the hydrogen is depleted. \n",
        "## So note that in reality the boundaries can shift a little bit. \n",
        "mu_e = 2.0\n",
        "\n",
        "###################################\n",
        "###################################\n",
        "# In class\n",
        "\n",
        "rhoT = np.log10(1.9e6 * mu_e)\n",
        "\n",
        "logRho = np.array([-6, rhoT])\n",
        "logT = np.log10((10**logRho / mu_e / 2.5e-8) ** (2./3.))\n",
        "ax.fill_between(logRho, logT, facecolor='red', alpha=0.5)\n",
        "\n",
        "logRho = np.array([rhoT, 10])\n",
        "logT = np.log10((10**logRho / mu_e / 2.95e-22) ** (1./3.))\n",
        "ax.fill_between(logRho, logT, facecolor='blue', alpha=0.5)\n",
        "\n",
        "ax.plot(Msun['logRho'], Msun['logT'], label='Sun')\n",
        "ax.plot(M10['logRho'], M10['logT'], label='M10')\n",
        "ax.plot(MsunOld['logRho'], MsunOld['logT'], label='Old Sun')\n",
        "\n",
        "ax.legend(loc=0)\n",
        "\n",
        "###################################\n",
        "###################################\n",
        "# At home\n",
        "\n",
        "\n",
        "logWD = np.log10(const.M_sun.value/(4/3 * np.pi * const.R_earth.value**3))\n",
        "\n",
        "ax.vlines(logWD, 3, 10, colors='k')\n",
        "\n",
        "#-------------------\n",
        "plt.rcParams.update({'font.size': 18})\n",
        "ax.set_xlabel(r'$\\log(\\rho)$')\n",
        "ax.set_ylabel(r'$\\log(T)$')"
      ]
    },
    {
      "cell_type": "markdown",
      "metadata": {
        "id": "qwDs3ropgI0q"
      },
      "source": [
        "> **TODO**: write a caption for your graph (make sure to also include the radiation pressure that we will add in the next lecture). Comment on which type of stars are more likely to have important degeneracy/radiation pressure (also, where in the star). \n",
        "\n",
        "While the sun approaches degeneracy, it does not quite reach it. Even in its old age, while coming close, it will not reach a dominent degeneracy pressure. Also, the 10M star will not reach it as well. However, in the white dwarf, relativistic degeneracy is consistent."
      ]
    },
    {
      "cell_type": "markdown",
      "metadata": {
        "id": "p2AcPO--gI0r"
      },
      "source": [
        "## 2. At home: Use the properties of polytrope to understand non-relativistic white dwarfs\n",
        "\n",
        "White dwarfs are the remnant of solar mass object, once the fusion stops. WD are generally made of elements heavier than He, e.g. carbon or oxygen depending on their evolution. \n",
        "In the case were no H or He is present in a gas, the electronic mean molecular weigth $\\mu_e\\sim2$.\n",
        "\n",
        "These objects remain in hydrostatic equilibrium because of non-relativistic degeneracy pressure, of the form\n",
        "$$P_e = 1.00\\times10^{13}\\left(\\frac{\\rho}{\\mu_e}\\right)^{5/3}.$$\n",
        "The numerical constant is such that the pressure is in dyn/cm2 for a density given in g/cm3.\n",
        "\n",
        "You probably notice that the pressure does not depend on temperature, just like a polytrop! \n",
        "\n",
        "This would correspond to a polytrop of index n=3/2, with $K = 1.00\\times10^{13}/\\mu_e^{5/3}$. For such a polytrop, $\\epsilon_1=3.654$, and $(-\\theta(\\epsilon_1)')=0.20330$, according to Henson Table 7.1.\n",
        "\n",
        "> **TODO**\n",
        ">\n",
        "> a. Use the property of polytrops to find an expression for $M_\\star$ as a function of only $R_\\star$ and $K$ (and constants such as G and $\\epsilon_1$ etc). Show your work here. \n",
        "\n",
        "$$P_e = 1.00\\times10^{13}\\left(\\frac{\\rho}{\\mu_e}\\right)^{5/3}.$$\n",
        "$$M_\\star = - \\frac{1}{(4\\pi)^{\\frac{1}{2}}}\\left(\\frac{n + 1}{G}\\right)^{\\frac{3}{2}}\\frac{P_c^{3/2}}{\\rho_c^2}\\epsilon_1^2 \\theta'(\\epsilon_1) $$\n",
        "$$ R_\\star = \\left(\\frac{(n+1)P_c}{4\\pi G\\rho_c^2}\\right)^{1/2} $$\n",
        "$$ P_c = K\\rho_c^{\\frac{n+1}{n}} $$\n",
        "\n",
        "$$M_\\star = - \\frac{1}{(4\\pi)}\\left(\\frac{n + 1}{G}\\right)\\frac{P_c R_\\star}{\\rho_c}\\epsilon_1 \\theta'(\\epsilon_1) $$\n",
        "$$M_\\star = - \\frac{1}{(4\\pi)}\\left(\\frac{n + 1}{G}\\right)K R_\\star\\rho_c^{\\frac{1}{n}}\\epsilon_1 \\theta'(\\epsilon_1) $$\n",
        "\n",
        ">\n",
        "> b. If you have not already done so in a), evaluate the numerical constants such that you get an equation for the mass in solar units if you give the radius in solar units. \n",
        "\n",
        "$$M_\\star = - \\frac{1}{(4\\pi)}\\left(\\frac{n + 1}{G}\\right)K R_\\star\\rho_c^{\\frac{1}{n}}\\epsilon_1 \\theta'(\\epsilon_1) $$\n",
        "$$M_\\star = \\frac{1}{(4\\pi)}\\left(\\frac{5}{2G}\\right)\\frac{1.00\\times10^{13}}{2^{5/3}} R_\\star\\rho_c^{\\frac{2}{3}} * 3.654 * 0.20330 $$\n",
        "\n",
        ">\n",
        "> c. Make a plot of the WD radius as a function of mass for a selection of masses between say 0.1 and 10 Msun. "
      ]
    },
    {
      "cell_type": "code",
      "execution_count": 5,
      "metadata": {
        "id": "LGOtsM7hgI0s",
        "colab": {
          "base_uri": "https://localhost:8080/",
          "height": 329
        },
        "outputId": "cab8597a-1397-4022-fe4f-5e8bcb084799"
      },
      "outputs": [
        {
          "output_type": "execute_result",
          "data": {
            "text/plain": [
              "Text(0, 0.5, 'R')"
            ]
          },
          "metadata": {},
          "execution_count": 5
        },
        {
          "output_type": "display_data",
          "data": {
            "text/plain": [
              "<Figure size 432x288 with 1 Axes>"
            ],
            "image/png": "[encoded data removed]"
          },
          "metadata": {
            "needs_background": "light"
          }
        }
      ],
      "source": [
        "###################################\n",
        "###################################\n",
        "# At home\n",
        "\n",
        "M = np.arange(0.1, 10, 0.1)\n",
        "\n",
        "R = 4 * np.pi * 2 * const.G /5 * 2**(5/3) / 1e13 / 3.654 / 0.20330 * M\n",
        "\n",
        "plt.plot(M, R)\n",
        "plt.xlabel(\"M/Mstar\")\n",
        "plt.ylabel(\"R\")\n"
      ]
    },
    {
      "cell_type": "markdown",
      "metadata": {
        "id": "6MAwdG3TgI0t"
      },
      "source": [
        "> **TODO**: Write a caption for your figure. Comment on the relationship between the radius and the mass of a non-relativistic white dwarf -- how is it similar/different from main sequence stars? (you may want to look at the Open Stack astronomy textbook, to see how the radius of main sequence stars changes with mass). \n",
        "\n",
        "While the relationship for the main sequence is decreasing, this is a linear and increasing relationship."
      ]
    },
    {
      "cell_type": "markdown",
      "metadata": {
        "id": "KVYCLpdygI0t"
      },
      "source": [
        "## 3. At home: Do the same as #2, for a relativistic white dwarf.\n",
        "\n",
        "> **TODO**: show your work below\n",
        "\n",
        "$$M_\\star = - \\frac{1}{(4\\pi)}\\left(\\frac{n + 1}{G}\\right)K R_\\star\\rho_c^{\\frac{1}{n}}\\epsilon_1 \\theta'(\\epsilon_1) $$\n",
        "\n",
        "For the relativistic, $n = 3$ and $K = 1.24\\times15^{13}/\\mu_e^{4/3}$\n",
        "\n",
        "$$M_\\star = \\frac{1}{(4\\pi)}\\left(\\frac{5}{2G}\\right)\\frac{1.24\\times10^{15}}{2^{4/3}} R_\\star\\rho_c^{\\frac{2}{3}} * 3.654 * 0.20330 $$"
      ]
    },
    {
      "cell_type": "code",
      "execution_count": 6,
      "metadata": {
        "collapsed": true,
        "id": "TUO8SDnUgI0t",
        "colab": {
          "base_uri": "https://localhost:8080/",
          "height": 329
        },
        "outputId": "ed3986fc-f459-4de4-f177-ad5b260a0e57"
      },
      "outputs": [
        {
          "output_type": "execute_result",
          "data": {
            "text/plain": [
              "Text(0, 0.5, 'R')"
            ]
          },
          "metadata": {},
          "execution_count": 6
        },
        {
          "output_type": "display_data",
          "data": {
            "text/plain": [
              "<Figure size 432x288 with 1 Axes>"
            ],
            "image/png": "[encoded data removed]"
          },
          "metadata": {
            "needs_background": "light"
          }
        }
      ],
      "source": [
        "###################################\n",
        "###################################\n",
        "# At home\n",
        "\n",
        "R = 4 * np.pi * 2 * const.G /5 * 2**(4/3) / 1.24e15 / 3.654 / 0.20330 * M\n",
        "\n",
        "plt.plot(M, R)\n",
        "plt.xlabel(\"M/Mstar\")\n",
        "plt.ylabel(\"R\")"
      ]
    },
    {
      "cell_type": "markdown",
      "metadata": {
        "collapsed": true,
        "id": "1aZd3m-xgI0u"
      },
      "source": [
        "> **TODO** provide an interpretation of your result (hint: as a white dwarf becomes more massive, it becomes more and more relativistic). \n",
        "\n",
        "This also a linear relationship. However, the radius required for a given mass is dramatically larger."
      ]
    },
    {
      "cell_type": "code",
      "execution_count": null,
      "metadata": {
        "collapsed": true,
        "id": "MWGTEUDVgI0u"
      },
      "outputs": [],
      "source": [
        ""
      ]
    }
  ],
  "metadata": {
    "anaconda-cloud": {},
    "kernelspec": {
      "display_name": "Python 3",
      "name": "python3"
    },
    "language_info": {
      "name": "python"
    },
    "colab": {
      "name": "McGlinn_Chirstopher_L21_Degeneracy.ipynb",
      "provenance": [],
      "collapsed_sections": []
    }
  },
  "nbformat": 4,
  "nbformat_minor": 0
}